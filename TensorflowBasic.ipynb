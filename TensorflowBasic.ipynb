{
 "cells": [
  {
   "cell_type": "markdown",
   "metadata": {
    "deletable": true,
    "editable": true
   },
   "source": [
    "Andrew J Miller\n",
    "\n",
    "This is a notebook for learning and practicing the general basics of tensorflow."
   ]
  },
  {
   "cell_type": "code",
   "execution_count": 1,
   "metadata": {
    "collapsed": true,
    "deletable": true,
    "editable": true
   },
   "outputs": [],
   "source": [
    "#import tensorflow\n",
    "import tensorflow as tf"
   ]
  },
  {
   "cell_type": "code",
   "execution_count": 4,
   "metadata": {
    "collapsed": false,
    "deletable": true,
    "editable": true
   },
   "outputs": [
    {
     "name": "stdout",
     "output_type": "stream",
     "text": [
      "b'hello world'\n"
     ]
    }
   ],
   "source": [
    "# Let's show a basic constant expression.\n",
    "hello_constant = tf.constant('hello world')\n",
    "\n",
    "with tf.Session() as sess:\n",
    "    output = sess.run(hello_constant)\n",
    "    \n",
    "    #damn b\n",
    "    print(output)"
   ]
  },
  {
   "cell_type": "code",
   "execution_count": 8,
   "metadata": {
    "collapsed": false
   },
   "outputs": [],
   "source": [
    "# Tensors examples:\n",
    "\n",
    "# 0 dim\n",
    "a = tf.constant(1313)\n",
    "\n",
    "# 1 dim\n",
    "b = tf.constant([111, 222, 333])\n",
    "\n",
    "# 2 dim, notice outside brackets.\n",
    "c = tf.constant([[111, 222, 333], [444, 555, 666]])"
   ]
  },
  {
   "cell_type": "code",
   "execution_count": 12,
   "metadata": {
    "collapsed": true
   },
   "outputs": [],
   "source": [
    "# Variables\n",
    "var = tf.placeholder(tf.string)\n",
    "\n",
    "with tf.Session() as sess:\n",
    "    output = sess.run(var, feed_dict = {var: 'hey world2'})"
   ]
  },
  {
   "cell_type": "code",
   "execution_count": 13,
   "metadata": {
    "collapsed": false
   },
   "outputs": [
    {
     "name": "stdout",
     "output_type": "stream",
     "text": [
      "hey world2\n"
     ]
    }
   ],
   "source": [
    "print(output)"
   ]
  },
  {
   "cell_type": "code",
   "execution_count": 29,
   "metadata": {
    "collapsed": false
   },
   "outputs": [
    {
     "name": "stdout",
     "output_type": "stream",
     "text": [
      "test strang\n",
      "1414\n",
      "13.140000343322754\n"
     ]
    }
   ],
   "source": [
    "# Multi value dicts\n",
    "strang = tf.placeholder(tf.string)\n",
    "integer = tf.placeholder(tf.int32)\n",
    "floater = tf.placeholder(tf.float32)\n",
    "\n",
    "with tf.Session() as sess:\n",
    "    output = sess.run(strang, feed_dict = {strang: 'test strang', integer: 1414, floater: 13.14})\n",
    "    print(output)\n",
    "    \n",
    "with tf.Session() as sess:\n",
    "    output = sess.run(integer, {strang: 'test strang', integer: 1414, floater: 13.14})\n",
    "    print(output)\n",
    "    \n",
    "with tf.Session() as sess:\n",
    "    output = sess.run(floater, {strang: 'test strang', integer: 1414, floater: 13.14})\n",
    "    print(output)"
   ]
  },
  {
   "cell_type": "code",
   "execution_count": 30,
   "metadata": {
    "collapsed": true
   },
   "outputs": [],
   "source": [
    "ad = tf.add(5,9)\n",
    "sub = tf.subtract(-5, 9)\n",
    "mult = tf.multiply(5, )"
   ]
  },
  {
   "cell_type": "code",
   "execution_count": null,
   "metadata": {
    "collapsed": true
   },
   "outputs": [],
   "source": []
  }
 ],
 "metadata": {
  "kernelspec": {
   "display_name": "Python 3",
   "language": "python",
   "name": "python3"
  },
  "language_info": {
   "codemirror_mode": {
    "name": "ipython",
    "version": 3
   },
   "file_extension": ".py",
   "mimetype": "text/x-python",
   "name": "python",
   "nbconvert_exporter": "python",
   "pygments_lexer": "ipython3",
   "version": "3.6.0"
  }
 },
 "nbformat": 4,
 "nbformat_minor": 2
}
