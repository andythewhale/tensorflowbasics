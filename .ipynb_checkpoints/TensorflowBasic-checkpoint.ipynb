{
 "cells": [
  {
   "cell_type": "markdown",
   "metadata": {
    "deletable": true,
    "editable": true
   },
   "source": [
    "Andrew J Miller\n",
    "\n",
    "This is a notebook for learning and practicing the general basics of tensorflow."
   ]
  },
  {
   "cell_type": "code",
   "execution_count": 1,
   "metadata": {
    "collapsed": true,
    "deletable": true,
    "editable": true
   },
   "outputs": [],
   "source": [
    "#import tensorflow\n",
    "import tensorflow as tf"
   ]
  },
  {
   "cell_type": "code",
   "execution_count": 2,
   "metadata": {
    "collapsed": false,
    "deletable": true,
    "editable": true
   },
   "outputs": [
    {
     "name": "stdout",
     "output_type": "stream",
     "text": [
      "b'hello world'\n"
     ]
    }
   ],
   "source": [
    "# Let's show a basic constant expression.\n",
    "hello_constant = tf.constant('hello world')\n",
    "\n",
    "with tf.Session() as sess:\n",
    "    output = sess.run(hello_constant)\n",
    "    \n",
    "    #damn b\n",
    "    print(output)"
   ]
  },
  {
   "cell_type": "code",
   "execution_count": 3,
   "metadata": {
    "collapsed": false,
    "deletable": true,
    "editable": true
   },
   "outputs": [],
   "source": [
    "# Tensors examples:\n",
    "\n",
    "# 0 dim\n",
    "a = tf.constant(1313)\n",
    "\n",
    "# 1 dim\n",
    "b = tf.constant([111, 222, 333])\n",
    "\n",
    "# 2 dim, notice outside brackets.\n",
    "c = tf.constant([[111, 222, 333], [444, 555, 666]])"
   ]
  },
  {
   "cell_type": "code",
   "execution_count": 4,
   "metadata": {
    "collapsed": true,
    "deletable": true,
    "editable": true
   },
   "outputs": [],
   "source": [
    "# placeholders\n",
    "plc = tf.placeholder(tf.string)\n",
    "\n",
    "with tf.Session() as sess:\n",
    "    output = sess.run(plc, feed_dict = {plc: 'hey world2'})"
   ]
  },
  {
   "cell_type": "code",
   "execution_count": 5,
   "metadata": {
    "collapsed": false,
    "deletable": true,
    "editable": true
   },
   "outputs": [
    {
     "name": "stdout",
     "output_type": "stream",
     "text": [
      "hey world2\n"
     ]
    }
   ],
   "source": [
    "print(output)"
   ]
  },
  {
   "cell_type": "code",
   "execution_count": 6,
   "metadata": {
    "collapsed": false,
    "deletable": true,
    "editable": true
   },
   "outputs": [
    {
     "name": "stdout",
     "output_type": "stream",
     "text": [
      "test strang\n",
      "1414\n",
      "13.140000343322754\n"
     ]
    }
   ],
   "source": [
    "# Multi variate dicts\n",
    "strang = tf.placeholder(tf.string)\n",
    "integer = tf.placeholder(tf.int32)\n",
    "floater = tf.placeholder(tf.float32)\n",
    "\n",
    "with tf.Session() as sess:\n",
    "    output = sess.run(strang, feed_dict = {strang: 'test strang', integer: 1414, floater: 13.14})\n",
    "    print(output)\n",
    "    \n",
    "with tf.Session() as sess:\n",
    "    output = sess.run(integer, {strang: 'test strang', integer: 1414, floater: 13.14})\n",
    "    print(output)\n",
    "    \n",
    "with tf.Session() as sess:\n",
    "    output = sess.run(floater, {strang: 'test strang', integer: 1414, floater: 13.14})\n",
    "    print(output)"
   ]
  },
  {
   "cell_type": "code",
   "execution_count": 7,
   "metadata": {
    "collapsed": true,
    "deletable": true,
    "editable": true
   },
   "outputs": [],
   "source": [
    "# Math\n",
    "\n",
    "ad = tf.add(5,9)\n",
    "sub = tf.subtract(-5, 9)\n",
    "mult = tf.multiply(5, 19)"
   ]
  },
  {
   "cell_type": "code",
   "execution_count": 8,
   "metadata": {
    "collapsed": false,
    "deletable": true,
    "editable": true
   },
   "outputs": [
    {
     "data": {
      "text/plain": [
       "<tf.Tensor 'Sub_1:0' shape=() dtype=int32>"
      ]
     },
     "execution_count": 8,
     "metadata": {},
     "output_type": "execute_result"
    }
   ],
   "source": [
    "# Your types need to match between floats and ints\n",
    "tf.subtract(tf.cast(tf.constant(2.0), tf.int32), tf.constant(1))"
   ]
  },
  {
   "cell_type": "code",
   "execution_count": 9,
   "metadata": {
    "collapsed": false,
    "deletable": true,
    "editable": true
   },
   "outputs": [
    {
     "name": "stdout",
     "output_type": "stream",
     "text": [
      "4.0\n"
     ]
    }
   ],
   "source": [
    "x = tf.constant(10)\n",
    "y = tf.constant(2)\n",
    "z = tf.subtract(tf.divide(x,y),tf.cast(tf.constant(1), tf.float64))\n",
    "\n",
    "with tf.Session() as sess:\n",
    "    output = sess.run(z)\n",
    "    print(output)\n"
   ]
  },
  {
   "cell_type": "code",
   "execution_count": 11,
   "metadata": {
    "collapsed": true,
    "deletable": true,
    "editable": true
   },
   "outputs": [],
   "source": [
    "# Variables\n",
    "\n",
    "myVar = tf.Variable(13)\n",
    "\n",
    "init = tf.global_variables_initializer()\n",
    "with tf.Session() as sess:\n",
    "    sess.run(init)"
   ]
  },
  {
   "cell_type": "code",
   "execution_count": 16,
   "metadata": {
    "collapsed": false,
    "deletable": true,
    "editable": true
   },
   "outputs": [],
   "source": [
    "# example block, assigning random weights.\n",
    "nFeatures = 333\n",
    "nLabels = 3\n",
    "\n",
    "weights = tf.Variable(tf.truncated_normal((nFeatures, nLabels)))\n",
    "\n",
    "# also we assign bias, to zero.\n",
    "bias= tf.Variable(tf.zeros(nLabels))"
   ]
  },
  {
   "cell_type": "code",
   "execution_count": 21,
   "metadata": {
    "collapsed": false,
    "deletable": true,
    "editable": true
   },
   "outputs": [
    {
     "data": {
      "text/plain": [
       "<tf.Tensor 'Reshape_9:0' shape=(3,) dtype=float32>"
      ]
     },
     "execution_count": 21,
     "metadata": {},
     "output_type": "execute_result"
    }
   ],
   "source": [
    "# Softmax\n",
    "\n",
    "sm = tf.nn.softmax([2.0, 1.0, 3.0])\n",
    "sm"
   ]
  },
  {
   "cell_type": "code",
   "execution_count": 27,
   "metadata": {
    "collapsed": false,
    "deletable": true,
    "editable": true
   },
   "outputs": [
    {
     "data": {
      "text/plain": [
       "array([ 0.24472848,  0.66524094,  0.09003057], dtype=float32)"
      ]
     },
     "execution_count": 27,
     "metadata": {},
     "output_type": "execute_result"
    }
   ],
   "source": [
    "# example\n",
    "def run():\n",
    "    out = None\n",
    "    data =  [2.0, 3.0, 1.0]\n",
    "    hold = tf.placeholder(tf.float32)\n",
    "    \n",
    "    sm = tf.nn.softmax(hold)\n",
    "    \n",
    "    with tf.Session() as sess:\n",
    "        out = sess.run(sm, feed_dict = {hold: data})\n",
    "        \n",
    "    return out\n",
    "\n",
    "run()"
   ]
  },
  {
   "cell_type": "code",
   "execution_count": 35,
   "metadata": {
    "collapsed": true,
    "deletable": true,
    "editable": true
   },
   "outputs": [],
   "source": [
    "# cross entropy\n",
    "\n",
    "reduce_sum = tf.reduce_sum([1, 3, 4, 5, 2])\n",
    "lowg = tf.log(154.)"
   ]
  },
  {
   "cell_type": "code",
   "execution_count": 51,
   "metadata": {
    "collapsed": false,
    "deletable": true,
    "editable": true
   },
   "outputs": [
    {
     "name": "stdout",
     "output_type": "stream",
     "text": [
      "0.105361\n"
     ]
    }
   ],
   "source": [
    "# example\n",
    "smData = [0.9, 0.05, 0.05]\n",
    "one_hot_data = [1. , 0. , 0.]\n",
    "\n",
    "sm = tf.placeholder(tf.float32)\n",
    "oh = tf.placeholder(tf.float32)\n",
    "\n",
    "cross_entropy = -tf.reduce_sum(tf.multiply(oh, tf.log(sm)))\n",
    "\n",
    "with tf.Session() as sess:\n",
    "    print(sess.run(cross_entropy, feed_dict = {sm: smData, oh: one_hot_data}))"
   ]
  },
  {
   "cell_type": "code",
   "execution_count": 68,
   "metadata": {
    "collapsed": true,
    "deletable": true,
    "editable": true
   },
   "outputs": [],
   "source": [
    "# Minibatching for limited memory\n",
    "# Good for not having enough memory to store data\n",
    "# Good to do stochastic gd.\n",
    "import numpy as np\n",
    "from tensorflow.examples.tutorials.mnist import input_data\n",
    "\n",
    "n_input = 784\n",
    "n_classes = 10"
   ]
  },
  {
   "cell_type": "code",
   "execution_count": 69,
   "metadata": {
    "collapsed": false,
    "deletable": true,
    "editable": true
   },
   "outputs": [
    {
     "name": "stdout",
     "output_type": "stream",
     "text": [
      "Extracting /datasets/ud730/mnist\\train-images-idx3-ubyte.gz\n",
      "Extracting /datasets/ud730/mnist\\train-labels-idx1-ubyte.gz\n",
      "Extracting /datasets/ud730/mnist\\t10k-images-idx3-ubyte.gz\n",
      "Extracting /datasets/ud730/mnist\\t10k-labels-idx1-ubyte.gz\n"
     ]
    }
   ],
   "source": [
    "mnist_data = input_data.read_data_sets('/datasets/ud730/mnist', one_hot = True)"
   ]
  },
  {
   "cell_type": "code",
   "execution_count": 70,
   "metadata": {
    "collapsed": true,
    "deletable": true,
    "editable": true
   },
   "outputs": [],
   "source": [
    "# feat train/test sep\n",
    "train_feats = mnist_data.train.images\n",
    "test_feats = mnist_data.test.images"
   ]
  },
  {
   "cell_type": "code",
   "execution_count": 71,
   "metadata": {
    "collapsed": false,
    "deletable": true,
    "editable": true
   },
   "outputs": [],
   "source": [
    "# label train/test sep\n",
    "train_labels = mnist_data.train.labels.astype(np.float32)\n",
    "test_labels = mnist_data.test.labels.astype(np.float32)"
   ]
  },
  {
   "cell_type": "code",
   "execution_count": 74,
   "metadata": {
    "collapsed": false,
    "deletable": true,
    "editable": true
   },
   "outputs": [],
   "source": [
    "# weights & bias (random initially)\n",
    "weights = tf.Variable(tf.random_normal([n_input, n_classes]))\n",
    "bias = tf.Variable(tf.random_normal([n_classes]))"
   ]
  },
  {
   "cell_type": "code",
   "execution_count": 83,
   "metadata": {
    "collapsed": false,
    "deletable": true,
    "editable": true
   },
   "outputs": [
    {
     "name": "stdout",
     "output_type": "stream",
     "text": [
      "(55000, 784)\n",
      "(10000, 784)\n",
      "(55000, 10)\n",
      "(10000, 10)\n",
      "(784, 10)\n"
     ]
    }
   ],
   "source": [
    "print(train_feats.shape)\n",
    "print(test_feats.shape)\n",
    "print(train_labels.shape)\n",
    "print(test_labels.shape)\n",
    "print(weights.shape)"
   ]
  },
  {
   "cell_type": "code",
   "execution_count": 84,
   "metadata": {
    "collapsed": false,
    "deletable": true,
    "editable": true
   },
   "outputs": [
    {
     "name": "stdout",
     "output_type": "stream",
     "text": [
      "(10,)\n"
     ]
    }
   ],
   "source": [
    "print(bias.shape)"
   ]
  },
  {
   "cell_type": "code",
   "execution_count": 87,
   "metadata": {
    "collapsed": false,
    "deletable": true,
    "editable": true
   },
   "outputs": [],
   "source": [
    "# tensorflow placeholders\n",
    "# none = placeholder for batch size\n",
    "feats = tf.placeholder(tf.float32, [None, n_input])\n",
    "classes = tf.placeholder(tf.float32, [None, n_classes])"
   ]
  },
  {
   "cell_type": "code",
   "execution_count": 92,
   "metadata": {
    "collapsed": false,
    "deletable": true,
    "editable": true
   },
   "outputs": [],
   "source": [
    "# create batches:\n",
    "\n",
    "import math\n",
    "\n",
    "def make_batches(batch_size, features, labels):\n",
    "    \n",
    "    #assertion check:\n",
    "    assert len(features) == len(labels)\n",
    "    \n",
    "    batches = []\n",
    "    \n",
    "    size = len(features)\n",
    "    \n",
    "    for i in range(0, size, batch_size):\n",
    "        n = i + batch_size\n",
    "        batch = [features[i:n], labels[i:n]]\n",
    "        batches.append(batch)\n",
    "        \n",
    "    return batches"
   ]
  },
  {
   "cell_type": "code",
   "execution_count": 96,
   "metadata": {
    "collapsed": false,
    "deletable": true,
    "editable": true
   },
   "outputs": [],
   "source": [
    "make_batches(200, train_feats[0], train_feats[1]); #lit"
   ]
  },
  {
   "cell_type": "code",
   "execution_count": 97,
   "metadata": {
    "collapsed": true,
    "deletable": true,
    "editable": true
   },
   "outputs": [],
   "source": [
    "from tensorflow.examples.tutorials.mnist import input_data\n",
    "import tensorflow as tf\n",
    "import numpy as np"
   ]
  },
  {
   "cell_type": "code",
   "execution_count": 98,
   "metadata": {
    "collapsed": false,
    "deletable": true,
    "editable": true
   },
   "outputs": [
    {
     "name": "stdout",
     "output_type": "stream",
     "text": [
      "Extracting /datasets/ud730/mnist/train-images-idx3-ubyte.gz\n",
      "Extracting /datasets/ud730/mnist/train-labels-idx1-ubyte.gz\n",
      "Extracting /datasets/ud730/mnist/t10k-images-idx3-ubyte.gz\n",
      "Extracting /datasets/ud730/mnist/t10k-labels-idx1-ubyte.gz\n"
     ]
    }
   ],
   "source": [
    "learning_rate = 0.001\n",
    "n_input = 784\n",
    "n_classes = 10\n",
    "mnist = input_data.read_data_sets('/datasets/ud730/mnist/', one_hot = True)"
   ]
  },
  {
   "cell_type": "code",
   "execution_count": 99,
   "metadata": {
    "collapsed": true,
    "deletable": true,
    "editable": true
   },
   "outputs": [],
   "source": [
    "train_feats = mnist.train.images\n",
    "test_feats = mnist.test.images"
   ]
  },
  {
   "cell_type": "code",
   "execution_count": 100,
   "metadata": {
    "collapsed": true,
    "deletable": true,
    "editable": true
   },
   "outputs": [],
   "source": [
    "train_labels = mnist.train.labels.astype(np.float32)\n",
    "test_labels = mnist.test.labels.astype(np.float32)"
   ]
  },
  {
   "cell_type": "code",
   "execution_count": 101,
   "metadata": {
    "collapsed": true,
    "deletable": true,
    "editable": true
   },
   "outputs": [],
   "source": [
    "feats = tf.placeholder(tf.float32, [None, n_input])\n",
    "labels = tf.placeholder(tf.float32, [None, n_classes])"
   ]
  },
  {
   "cell_type": "code",
   "execution_count": 102,
   "metadata": {
    "collapsed": true,
    "deletable": true,
    "editable": true
   },
   "outputs": [],
   "source": [
    "weights = tf.Variable(tf.random_normal([n_input, n_classes]))\n",
    "bias = tf.Variable(tf.random_normal([n_classes]))"
   ]
  },
  {
   "cell_type": "code",
   "execution_count": 104,
   "metadata": {
    "collapsed": true,
    "deletable": true,
    "editable": true
   },
   "outputs": [],
   "source": [
    "logits = tf.add(tf.matmul(feats, weights), bias)"
   ]
  },
  {
   "cell_type": "code",
   "execution_count": 107,
   "metadata": {
    "collapsed": false,
    "deletable": true,
    "editable": true
   },
   "outputs": [],
   "source": [
    "cost  = tf.reduce_mean(tf.nn.softmax_cross_entropy_with_logits(logits=logits, labels = labels))\n",
    "optimizer = tf.train.GradientDescentOptimizer(learning_rate=learning_rate).minimize(cost)"
   ]
  },
  {
   "cell_type": "code",
   "execution_count": 108,
   "metadata": {
    "collapsed": true,
    "deletable": true,
    "editable": true
   },
   "outputs": [],
   "source": [
    "correct_prediction = tf.equal(tf.argmax(logits, 1), tf.argmax(labels, 1))\n",
    "accuracy = tf.reduce_mean(tf.cast(correct_prediction, tf.float32))"
   ]
  },
  {
   "cell_type": "code",
   "execution_count": 113,
   "metadata": {
    "collapsed": false,
    "deletable": true,
    "editable": true
   },
   "outputs": [],
   "source": [
    "batch_size = 139\n",
    "assert batch_size is not None, 'Set batch size yo'\n",
    "\n",
    "init = tf.global_variables_initializer()\n",
    "\n",
    "with tf.Session() as sess:\n",
    "    sess.run(init)\n",
    "    \n",
    "    for batch_features, batch_labels in make_batches(batch_size, train_feats, train_labels):\n",
    "        sess.run(optimizer, feed_dict={feats: batch_features, labels: batch_labels})\n",
    "        \n",
    "    test_accuracy = sess.run(accuracy, feed_dict={feats: test_feats, labels: test_labels})"
   ]
  },
  {
   "cell_type": "code",
   "execution_count": 114,
   "metadata": {
    "collapsed": false,
    "deletable": true,
    "editable": true
   },
   "outputs": [
    {
     "name": "stdout",
     "output_type": "stream",
     "text": [
      "Test accuracy: 0.1273999959230423\n"
     ]
    }
   ],
   "source": [
    "print('Test accuracy: {}'.format(test_accuracy))"
   ]
  },
  {
   "cell_type": "code",
   "execution_count": 8,
   "metadata": {
    "collapsed": false,
    "deletable": true,
    "editable": true
   },
   "outputs": [
    {
     "name": "stdout",
     "output_type": "stream",
     "text": [
      "Extracting /datasets/ud730/mnist\\train-images-idx3-ubyte.gz\n",
      "Extracting /datasets/ud730/mnist\\train-labels-idx1-ubyte.gz\n",
      "Extracting /datasets/ud730/mnist\\t10k-images-idx3-ubyte.gz\n",
      "Extracting /datasets/ud730/mnist\\t10k-labels-idx1-ubyte.gz\n",
      "Epoch: 0    - Cost: 1.45     Valid Accuracy: 0.731\n",
      "Epoch: 1    - Cost: 1.05     Valid Accuracy: 0.799\n",
      "Epoch: 2    - Cost: 0.878    Valid Accuracy: 0.827\n",
      "Epoch: 3    - Cost: 0.779    Valid Accuracy: 0.844\n",
      "Epoch: 4    - Cost: 0.717    Valid Accuracy: 0.856\n",
      "Epoch: 5    - Cost: 0.674    Valid Accuracy: 0.862\n",
      "Epoch: 6    - Cost: 0.642    Valid Accuracy: 0.867\n",
      "Epoch: 7    - Cost: 0.617    Valid Accuracy: 0.87 \n",
      "Epoch: 8    - Cost: 0.595    Valid Accuracy: 0.875\n",
      "Epoch: 9    - Cost: 0.577    Valid Accuracy: 0.877\n",
      "Epoch: 10   - Cost: 0.56     Valid Accuracy: 0.878\n",
      "Epoch: 11   - Cost: 0.546    Valid Accuracy: 0.881\n",
      "Epoch: 12   - Cost: 0.532    Valid Accuracy: 0.883\n",
      "Epoch: 13   - Cost: 0.52     Valid Accuracy: 0.888\n",
      "Epoch: 14   - Cost: 0.509    Valid Accuracy: 0.891\n",
      "Epoch: 15   - Cost: 0.499    Valid Accuracy: 0.892\n",
      "Epoch: 16   - Cost: 0.49     Valid Accuracy: 0.893\n",
      "Epoch: 17   - Cost: 0.481    Valid Accuracy: 0.893\n",
      "Epoch: 18   - Cost: 0.473    Valid Accuracy: 0.895\n",
      "Epoch: 19   - Cost: 0.465    Valid Accuracy: 0.895\n",
      "Epoch: 20   - Cost: 0.458    Valid Accuracy: 0.896\n",
      "Epoch: 21   - Cost: 0.451    Valid Accuracy: 0.897\n",
      "Epoch: 22   - Cost: 0.444    Valid Accuracy: 0.898\n",
      "Epoch: 23   - Cost: 0.438    Valid Accuracy: 0.899\n",
      "Epoch: 24   - Cost: 0.432    Valid Accuracy: 0.899\n",
      "Epoch: 25   - Cost: 0.426    Valid Accuracy: 0.9  \n",
      "Epoch: 26   - Cost: 0.421    Valid Accuracy: 0.9  \n",
      "Epoch: 27   - Cost: 0.416    Valid Accuracy: 0.901\n",
      "Epoch: 28   - Cost: 0.411    Valid Accuracy: 0.901\n",
      "Epoch: 29   - Cost: 0.406    Valid Accuracy: 0.901\n",
      "Epoch: 30   - Cost: 0.401    Valid Accuracy: 0.902\n",
      "Epoch: 31   - Cost: 0.397    Valid Accuracy: 0.903\n",
      "Epoch: 32   - Cost: 0.393    Valid Accuracy: 0.903\n",
      "Epoch: 33   - Cost: 0.389    Valid Accuracy: 0.903\n",
      "Epoch: 34   - Cost: 0.385    Valid Accuracy: 0.904\n",
      "Epoch: 35   - Cost: 0.381    Valid Accuracy: 0.904\n",
      "Epoch: 36   - Cost: 0.377    Valid Accuracy: 0.904\n",
      "Epoch: 37   - Cost: 0.374    Valid Accuracy: 0.905\n",
      "Epoch: 38   - Cost: 0.37     Valid Accuracy: 0.905\n",
      "Epoch: 39   - Cost: 0.367    Valid Accuracy: 0.906\n",
      "Epoch: 40   - Cost: 0.364    Valid Accuracy: 0.906\n",
      "Epoch: 41   - Cost: 0.361    Valid Accuracy: 0.906\n",
      "Epoch: 42   - Cost: 0.358    Valid Accuracy: 0.906\n",
      "Epoch: 43   - Cost: 0.356    Valid Accuracy: 0.907\n",
      "Epoch: 44   - Cost: 0.353    Valid Accuracy: 0.907\n",
      "Epoch: 45   - Cost: 0.35     Valid Accuracy: 0.907\n",
      "Epoch: 46   - Cost: 0.348    Valid Accuracy: 0.907\n",
      "Epoch: 47   - Cost: 0.345    Valid Accuracy: 0.908\n",
      "Epoch: 48   - Cost: 0.343    Valid Accuracy: 0.908\n",
      "Epoch: 49   - Cost: 0.341    Valid Accuracy: 0.908\n",
      "Epoch: 50   - Cost: 0.338    Valid Accuracy: 0.908\n",
      "Epoch: 51   - Cost: 0.336    Valid Accuracy: 0.908\n",
      "Epoch: 52   - Cost: 0.334    Valid Accuracy: 0.909\n",
      "Epoch: 53   - Cost: 0.332    Valid Accuracy: 0.909\n",
      "Epoch: 54   - Cost: 0.33     Valid Accuracy: 0.91 \n",
      "Epoch: 55   - Cost: 0.328    Valid Accuracy: 0.911\n",
      "Epoch: 56   - Cost: 0.326    Valid Accuracy: 0.911\n",
      "Epoch: 57   - Cost: 0.324    Valid Accuracy: 0.912\n",
      "Epoch: 58   - Cost: 0.323    Valid Accuracy: 0.912\n",
      "Epoch: 59   - Cost: 0.321    Valid Accuracy: 0.912\n",
      "Epoch: 60   - Cost: 0.319    Valid Accuracy: 0.912\n",
      "Epoch: 61   - Cost: 0.317    Valid Accuracy: 0.912\n",
      "Epoch: 62   - Cost: 0.316    Valid Accuracy: 0.912\n",
      "Epoch: 63   - Cost: 0.314    Valid Accuracy: 0.913\n",
      "Epoch: 64   - Cost: 0.313    Valid Accuracy: 0.913\n",
      "Epoch: 65   - Cost: 0.311    Valid Accuracy: 0.913\n",
      "Epoch: 66   - Cost: 0.31     Valid Accuracy: 0.913\n",
      "Epoch: 67   - Cost: 0.308    Valid Accuracy: 0.913\n",
      "Epoch: 68   - Cost: 0.307    Valid Accuracy: 0.913\n",
      "Epoch: 69   - Cost: 0.305    Valid Accuracy: 0.913\n",
      "Epoch: 70   - Cost: 0.304    Valid Accuracy: 0.913\n",
      "Epoch: 71   - Cost: 0.302    Valid Accuracy: 0.913\n",
      "Epoch: 72   - Cost: 0.301    Valid Accuracy: 0.913\n",
      "Epoch: 73   - Cost: 0.3      Valid Accuracy: 0.913\n",
      "Epoch: 74   - Cost: 0.298    Valid Accuracy: 0.913\n",
      "Epoch: 75   - Cost: 0.297    Valid Accuracy: 0.913\n",
      "Epoch: 76   - Cost: 0.296    Valid Accuracy: 0.913\n",
      "Epoch: 77   - Cost: 0.295    Valid Accuracy: 0.913\n",
      "Epoch: 78   - Cost: 0.293    Valid Accuracy: 0.913\n",
      "Epoch: 79   - Cost: 0.292    Valid Accuracy: 0.913\n",
      "Epoch: 80   - Cost: 0.291    Valid Accuracy: 0.913\n",
      "Epoch: 81   - Cost: 0.29     Valid Accuracy: 0.913\n",
      "Epoch: 82   - Cost: 0.288    Valid Accuracy: 0.913\n",
      "Epoch: 83   - Cost: 0.287    Valid Accuracy: 0.914\n",
      "Epoch: 84   - Cost: 0.286    Valid Accuracy: 0.914\n",
      "Epoch: 85   - Cost: 0.285    Valid Accuracy: 0.914\n",
      "Epoch: 86   - Cost: 0.284    Valid Accuracy: 0.914\n",
      "Epoch: 87   - Cost: 0.283    Valid Accuracy: 0.914\n",
      "Epoch: 88   - Cost: 0.282    Valid Accuracy: 0.914\n",
      "Epoch: 89   - Cost: 0.281    Valid Accuracy: 0.915\n",
      "Epoch: 90   - Cost: 0.28     Valid Accuracy: 0.915\n",
      "Epoch: 91   - Cost: 0.279    Valid Accuracy: 0.915\n",
      "Epoch: 92   - Cost: 0.278    Valid Accuracy: 0.915\n",
      "Epoch: 93   - Cost: 0.277    Valid Accuracy: 0.916\n",
      "Epoch: 94   - Cost: 0.276    Valid Accuracy: 0.916\n",
      "Epoch: 95   - Cost: 0.275    Valid Accuracy: 0.916\n",
      "Epoch: 96   - Cost: 0.274    Valid Accuracy: 0.916\n",
      "Epoch: 97   - Cost: 0.273    Valid Accuracy: 0.916\n",
      "Epoch: 98   - Cost: 0.272    Valid Accuracy: 0.917\n",
      "Epoch: 99   - Cost: 0.271    Valid Accuracy: 0.917\n",
      "Test Accuracy: 0.9144999980926514\n"
     ]
    }
   ],
   "source": [
    "from tensorflow.examples.tutorials.mnist import input_data\n",
    "import tensorflow as tf\n",
    "import numpy as np\n",
    "\n",
    "\n",
    "import math\n",
    "def batches(batch_size, features, labels):\n",
    "    \n",
    "    #assertion check:\n",
    "    assert len(features) == len(labels)\n",
    "    batches = []\n",
    "    size = len(features)\n",
    "    for i in range(0, size, batch_size):\n",
    "        n = i + batch_size\n",
    "        batch = [features[i:n], labels[i:n]]\n",
    "        batches.append(batch)\n",
    "    return batches\n",
    "\n",
    "\n",
    "def print_epoch_stats(epoch_i, sess, last_features, last_labels):\n",
    "    \"\"\"\n",
    "    Print cost and validation accuracy of an epoch\n",
    "    \"\"\"\n",
    "    current_cost = sess.run(\n",
    "        cost,\n",
    "        feed_dict={features: last_features, labels: last_labels})\n",
    "    valid_accuracy = sess.run(\n",
    "        accuracy,\n",
    "        feed_dict={features: valid_features, labels: valid_labels})\n",
    "    print('Epoch: {:<4} - Cost: {:<8.3} Valid Accuracy: {:<5.3}'.format(\n",
    "        epoch_i,\n",
    "        current_cost,\n",
    "        valid_accuracy))\n",
    "\n",
    "n_input = 784  # MNIST data input (img shape: 28*28)\n",
    "n_classes = 10  # MNIST total classes (0-9 digits)\n",
    "\n",
    "# Import MNIST data\n",
    "mnist = input_data.read_data_sets('/datasets/ud730/mnist', one_hot=True)\n",
    "\n",
    "# The features are already scaled and the data is shuffled\n",
    "train_features = mnist.train.images\n",
    "valid_features = mnist.validation.images\n",
    "test_features = mnist.test.images\n",
    "\n",
    "train_labels = mnist.train.labels.astype(np.float32)\n",
    "valid_labels = mnist.validation.labels.astype(np.float32)\n",
    "test_labels = mnist.test.labels.astype(np.float32)\n",
    "\n",
    "# Features and Labels\n",
    "features = tf.placeholder(tf.float32, [None, n_input])\n",
    "labels = tf.placeholder(tf.float32, [None, n_classes])\n",
    "\n",
    "# Weights & bias\n",
    "weights = tf.Variable(tf.random_normal([n_input, n_classes]))\n",
    "bias = tf.Variable(tf.random_normal([n_classes]))\n",
    "\n",
    "# Logits - xW + b\n",
    "logits = tf.add(tf.matmul(features, weights), bias)\n",
    "\n",
    "# Define loss and optimizer\n",
    "learning_rate = tf.placeholder(tf.float32)\n",
    "cost = tf.reduce_mean(tf.nn.softmax_cross_entropy_with_logits(logits=logits, labels=labels))\n",
    "optimizer = tf.train.GradientDescentOptimizer(learning_rate=learning_rate).minimize(cost)\n",
    "\n",
    "# Calculate accuracy\n",
    "correct_prediction = tf.equal(tf.argmax(logits, 1), tf.argmax(labels, 1))\n",
    "accuracy = tf.reduce_mean(tf.cast(correct_prediction, tf.float32))\n",
    "\n",
    "init = tf.global_variables_initializer()\n",
    "\n",
    "batch_size = 128\n",
    "epochs = 100\n",
    "learn_rate = 0.1\n",
    "\n",
    "train_batches = batches(batch_size, train_features, train_labels)\n",
    "\n",
    "with tf.Session() as sess:\n",
    "    sess.run(init)\n",
    "\n",
    "    # Training cycle\n",
    "    for epoch_i in range(epochs):\n",
    "\n",
    "        # Loop over all batches\n",
    "        for batch_features, batch_labels in train_batches:\n",
    "            train_feed_dict = {\n",
    "                features: batch_features,\n",
    "                labels: batch_labels,\n",
    "                learning_rate: learn_rate}\n",
    "            sess.run(optimizer, feed_dict=train_feed_dict)\n",
    "\n",
    "        # Print cost and validation accuracy of an epoch\n",
    "        print_epoch_stats(epoch_i, sess, batch_features, batch_labels)\n",
    "\n",
    "    # Calculate accuracy for test dataset\n",
    "    test_accuracy = sess.run(\n",
    "        accuracy,\n",
    "        feed_dict={features: test_features, labels: test_labels})\n",
    "\n",
    "print('Test Accuracy: {}'.format(test_accuracy))"
   ]
  },
  {
   "cell_type": "code",
   "execution_count": null,
   "metadata": {
    "collapsed": true
   },
   "outputs": [],
   "source": []
  }
 ],
 "metadata": {
  "kernelspec": {
   "display_name": "Python 3",
   "language": "python",
   "name": "python3"
  },
  "language_info": {
   "codemirror_mode": {
    "name": "ipython",
    "version": 3
   },
   "file_extension": ".py",
   "mimetype": "text/x-python",
   "name": "python",
   "nbconvert_exporter": "python",
   "pygments_lexer": "ipython3",
   "version": "3.6.0"
  }
 },
 "nbformat": 4,
 "nbformat_minor": 2
}
