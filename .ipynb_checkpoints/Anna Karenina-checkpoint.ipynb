{
 "cells": [
  {
   "cell_type": "code",
   "execution_count": 1,
   "metadata": {
    "collapsed": true
   },
   "outputs": [],
   "source": [
    "#Analysis of Anna Karenina with generative text analysis"
   ]
  },
  {
   "cell_type": "code",
   "execution_count": 16,
   "metadata": {
    "collapsed": true
   },
   "outputs": [],
   "source": [
    "# imports\n",
    "import time\n",
    "from collections import namedtuple\n",
    "import numpy as np\n",
    "import tensorflow as tf"
   ]
  },
  {
   "cell_type": "code",
   "execution_count": 17,
   "metadata": {
    "collapsed": false
   },
   "outputs": [],
   "source": [
    "#Let's load that file\n",
    "with open('anna.txt', 'r') as f:\n",
    "    text = f.read()\n",
    "vocab = sorted(set(text))\n",
    "vocab_to_int = {c: i for i, c in enumerate(vocab)}\n",
    "int_to_vocab = dict(enumerate(vocab))\n",
    "encoded = np.array([vocab_to_int[c] for c in text], dtype = np.int32)"
   ]
  },
  {
   "cell_type": "code",
   "execution_count": 18,
   "metadata": {
    "collapsed": false
   },
   "outputs": [
    {
     "name": "stdout",
     "output_type": "stream",
     "text": [
      "sample text:\n",
      " hat she could not go on living in the same house with him.\n",
      "This position of affairs had now lasted th \n",
      "\n",
      "length of vocab is:\n",
      " 83 \n",
      "\n",
      "vocab:\n",
      " ['\\n', ' ', '!', '\"', '$', '%', '&', \"'\", '(', ')', '*', ',', '-', '.', '/', '0', '1', '2', '3', '4', '5', '6', '7', '8', '9', ':', ';', '?', '@', 'A', 'B', 'C', 'D', 'E', 'F', 'G', 'H', 'I', 'J', 'K', 'L', 'M', 'N', 'O', 'P', 'Q', 'R', 'S', 'T', 'U', 'V', 'W', 'X', 'Y', 'Z', '_', '`', 'a', 'b', 'c', 'd', 'e', 'f', 'g', 'h', 'i', 'j', 'k', 'l', 'm', 'n', 'o', 'p', 'q', 'r', 's', 't', 'u', 'v', 'w', 'x', 'y', 'z'] \n",
      "\n",
      "enumerated vocab:\n",
      " {0: '\\n', 1: ' ', 2: '!', 3: '\"', 4: '$', 5: '%', 6: '&', 7: \"'\", 8: '(', 9: ')', 10: '*', 11: ',', 12: '-', 13: '.', 14: '/', 15: '0', 16: '1', 17: '2', 18: '3', 19: '4', 20: '5', 21: '6', 22: '7', 23: '8', 24: '9', 25: ':', 26: ';', 27: '?', 28: '@', 29: 'A', 30: 'B', 31: 'C', 32: 'D', 33: 'E', 34: 'F', 35: 'G', 36: 'H', 37: 'I', 38: 'J', 39: 'K', 40: 'L', 41: 'M', 42: 'N', 43: 'O', 44: 'P', 45: 'Q', 46: 'R', 47: 'S', 48: 'T', 49: 'U', 50: 'V', 51: 'W', 52: 'X', 53: 'Y', 54: 'Z', 55: '_', 56: '`', 57: 'a', 58: 'b', 59: 'c', 60: 'd', 61: 'e', 62: 'f', 63: 'g', 64: 'h', 65: 'i', 66: 'j', 67: 'k', 68: 'l', 69: 'm', 70: 'n', 71: 'o', 72: 'p', 73: 'q', 74: 'r', 75: 's', 76: 't', 77: 'u', 78: 'v', 79: 'w', 80: 'x', 81: 'y', 82: 'z'}\n"
     ]
    }
   ],
   "source": [
    "# Let's look atthis garbage.\n",
    "print('sample text:\\n', text[313:414], '\\n')\n",
    "print('length of vocab is:\\n', len(vocab), '\\n')\n",
    "print('vocab:\\n', vocab, '\\n')\n",
    "print('enumerated vocab:\\n', int_to_vocab)"
   ]
  },
  {
   "cell_type": "code",
   "execution_count": 19,
   "metadata": {
    "collapsed": true
   },
   "outputs": [],
   "source": [
    "# We need to get our batches so that we can train our data.\n",
    "def get_batches( arr, n_seqs, n_steps):\n",
    "    \"\"\"\n",
    "    This function is a generator that returns batches of size n_seq * n_steps\n",
    "    \n",
    "    Args:\n",
    "    arr: Just an array to make batches from.\n",
    "    n_seqs: Batch size\n",
    "    n_steps: Steps\n",
    "    \"\"\"\n",
    "    \n",
    "    # Get characters per batch\n",
    "    characters_per_batch = n_seqs * n_steps\n",
    "    n_batches = len(arr) // characters_per_batch\n",
    "    \n",
    "    # Keep only enough characters to make a full batch\n",
    "    arr = arr[:n_batches * characters_per_batch]\n",
    "    \n",
    "    # Reshape into n_seq rows\n",
    "    arr = arr.reshape((n_seqs, -1))\n",
    "    \n",
    "    for n in range(0, arr.shape[1], n_steps):\n",
    "        \n",
    "        #features\n",
    "        x  = arr[:, n: n + n_steps]\n",
    "        \n",
    "        #shifted targets\n",
    "        y = np.zeros_like(x)\n",
    "        y[:, :-1], y[:, -1] = x[:, 1:], x[:, 0]\n",
    "        yield x, y"
   ]
  },
  {
   "cell_type": "code",
   "execution_count": 20,
   "metadata": {
    "collapsed": false
   },
   "outputs": [],
   "source": [
    "# Get them\n",
    "batches = get_batches(encoded, 13, 49)\n",
    "x, y = next(batches)"
   ]
  },
  {
   "cell_type": "code",
   "execution_count": 21,
   "metadata": {
    "collapsed": false
   },
   "outputs": [
    {
     "name": "stdout",
     "output_type": "stream",
     "text": [
      "x\n",
      " [[31 64 57 72 76 61 74  1 16  0]\n",
      " [79 60 13  1 47 76 61 72 57 70]\n",
      " [75 65 63 64 76  1 71 62  1 68]\n",
      " [81  1 75 65 63 64 11  1 75 64]\n",
      " [61  1 79 57 75 64 61 60 11  1]\n",
      " [ 1 68 57 75 76  1 76 65 69 61]\n",
      " [13  1 29 70 60  0 62 71 74  1]\n",
      " [61 75 75 65 71 70  1 62 71 74]\n",
      " [61 80 72 74 61 75 75  1 76 64]\n",
      " [63 57 65 70  1 64 61 74 75 61]]\n",
      "\n",
      "y\n",
      " [[64 57 72 76 61 74  1 16  0  0]\n",
      " [60 13  1 47 76 61 72 57 70  1]\n",
      " [65 63 64 76  1 71 62  1 68 71]\n",
      " [ 1 75 65 63 64 11  1 75 64 61]\n",
      " [ 1 79 57 75 64 61 60 11  1 76]\n",
      " [68 57 75 76  1 76 65 69 61 13]\n",
      " [ 1 29 70 60  0 62 71 74  1 77]\n",
      " [75 75 65 71 70  1 62 71 74 27]\n",
      " [80 72 74 61 75 75  1 76 64 65]\n",
      " [57 65 70  1 64 61 74 75 61 68]]\n"
     ]
    }
   ],
   "source": [
    "print('x\\n', x[:10, :10])\n",
    "print('\\ny\\n', y[:10, :10])"
   ]
  },
  {
   "cell_type": "code",
   "execution_count": 15,
   "metadata": {
    "collapsed": true
   },
   "outputs": [],
   "source": [
    "# Sweet, now we have to build the model. We're going to use a network of LSTM's."
   ]
  },
  {
   "cell_type": "code",
   "execution_count": 22,
   "metadata": {
    "collapsed": true
   },
   "outputs": [],
   "source": [
    "# Inputs\n",
    "def build_inputs(batch_size, num_steps):\n",
    "    \"\"\"\n",
    "    Defining placeholders for the inputs, targets, and dropouts\n",
    "    \n",
    "    Args:\n",
    "    batch_size: Batch Size, Sequences per Batch\n",
    "    num_steps: Number of sequences in a batch\n",
    "    \"\"\"\n",
    "    \n",
    "    # Declare placeholders\n",
    "    inputs = tf.placeholder(tf.int32, [batch_size, num_steps], name = 'inputs')\n",
    "    targets = tf.placeholder(tf.int32, [batch_size, num_steps], name = 'targets')\n",
    "    \n",
    "    # Let's get a probability for the dropout layers\n",
    "    keep_prob = tf.placeholder(tf.float32, name = 'keep_prob')\n",
    "    \n",
    "    # Return statement\n",
    "    return inputs, targets, keep_prob"
   ]
  },
  {
   "cell_type": "code",
   "execution_count": 23,
   "metadata": {
    "collapsed": true
   },
   "outputs": [],
   "source": [
    "# LSTM Cell\n",
    "def build_lstm(lstm_size, num_layers, batch_size, keep_prob):\n",
    "    \"\"\"\n",
    "    Building an LSTM Cell\n",
    "    \n",
    "    Args:\n",
    "    keep_prob = Dropout probability\n",
    "    lstm_size = Number of cells per layer\n",
    "    num_layers = Number of layers\n",
    "    batch_size = Batch size\n",
    "    \"\"\"\n",
    "    \n",
    "    def build_cell(lstm_size, keep_prob):\n",
    "        \n",
    "        # Basic LSTM:\n",
    "        lstm = tf.contrib.rnn.BasicLSTMCell(lstm_size)\n",
    "        \n",
    "        # Dropout addition:\n",
    "        drop = tf.contrib.rnn.DropoutWrapper(lstm, output_keep_prob = keep_prob)\n",
    "        \n",
    "        # return statement:\n",
    "        return drop\n",
    "    \n",
    "    # Stack up multiple LSTM layers:\n",
    "    cell = tf.contrib.rnn.MultiRNNCell([build_cell(lstm_size, keep_prob) for _ in range(num_layers)])\n",
    "    initial_state = cell.zero_state(batch_size, tf.float32)\n",
    "    \n",
    "    # return statement:\n",
    "    return cell, initial_state"
   ]
  },
  {
   "cell_type": "code",
   "execution_count": 24,
   "metadata": {
    "collapsed": true
   },
   "outputs": [],
   "source": [
    "# Outputs:\n",
    "\n",
    "def build_output(lstm_output, in_size, out_size):\n",
    "    \"\"\"\n",
    "    Build Softmax layer, return outputs and logits\n",
    "    \n",
    "    Args:\n",
    "    lstm_outpit: Input tensor\n",
    "    in_size: Size of input tensor\n",
    "    out_size: Size of output tensor\n",
    "    \"\"\"\n",
    "    \n",
    "    # Reshape the output so it's a bunch of rows.\n",
    "    # One row for each step in each sequence\n",
    "    # Shape is ( M * N ) X L; batch_size * num_steps by LSTM size\n",
    "    seq_output = tf.concat(lstm_output, axis = 1)\n",
    "    x = tf.reshape(seq_output, [-1, in_size])\n",
    "    \n",
    "    # We need to connect the RNN network with the softmax layer:\n",
    "    with tf.variable_scope('softmax'):\n",
    "        softmax_w = tf.Variable(tf.truncated_normal((in_size, out_size), stdev = 0.1))\n",
    "        softmax_b = tf.Variable(tf.zeros(out_size))\n",
    "        \n",
    "    # output are just RNN cell outputs.\n",
    "    # logits will be a rows of logit outputs. One for each step & sequence\n",
    "    # This is a very complicated formula, follow it closely.\n",
    "    logits = tf.matmul(x, softmax_w) + softmax_b\n",
    "    \n",
    "    # let's use our softmax to get the probabilities for predicted characters\n",
    "    out = tf.nn.softmax(logits, name = 'predictions')\n",
    "    \n",
    "    # Return statement:\n",
    "    return out, logits"
   ]
  },
  {
   "cell_type": "code",
   "execution_count": 26,
   "metadata": {
    "collapsed": true
   },
   "outputs": [],
   "source": [
    "# Training Loss:\n",
    "def build_loss(logits, targets, lstm_size, num_classes):\n",
    "    \"\"\"\n",
    "    Calculate loss from the logits and the targets\n",
    "    \n",
    "    Args:\n",
    "    logits: Logits from the final fully connected layer\n",
    "    targets: Targets for supervised learning\n",
    "    lstm_size: Number of LSTM hidden units\n",
    "    num_classes: Number of classes in targets\n",
    "    \"\"\"\n",
    "    \n",
    "    # One hot encode targets and reshape to match our logits\n",
    "    # ( N * M ) X C; C = num_classes\n",
    "    y_one_hot = tf.one_hot(targets, num_classes)\n",
    "    y_reshaped = tf.reshape(y_one_hot, logits.get_shape())\n",
    "    \n",
    "    # Softmax cross entropy loss\n",
    "    loss = tf.nn.softmax_cross_entropy_with_logits(logits = logits, labels = y_reshaped)\n",
    "    loss = tf.reduce_mean(loss)\n",
    "    \n",
    "    # Return statement:\n",
    "    return loss"
   ]
  },
  {
   "cell_type": "code",
   "execution_count": null,
   "metadata": {
    "collapsed": true
   },
   "outputs": [],
   "source": [
    "# Optimization:\n"
   ]
  }
 ],
 "metadata": {
  "kernelspec": {
   "display_name": "Python 3",
   "language": "python",
   "name": "python3"
  },
  "language_info": {
   "codemirror_mode": {
    "name": "ipython",
    "version": 3
   },
   "file_extension": ".py",
   "mimetype": "text/x-python",
   "name": "python",
   "nbconvert_exporter": "python",
   "pygments_lexer": "ipython3",
   "version": "3.5.2"
  }
 },
 "nbformat": 4,
 "nbformat_minor": 2
}
